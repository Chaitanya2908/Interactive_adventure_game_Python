{
  "nbformat": 4,
  "nbformat_minor": 0,
  "metadata": {
    "colab": {
      "provenance": [],
      "include_colab_link": true
    },
    "kernelspec": {
      "name": "python3",
      "display_name": "Python 3"
    },
    "language_info": {
      "name": "python"
    }
  },
  "cells": [
    {
      "cell_type": "markdown",
      "metadata": {
        "id": "view-in-github",
        "colab_type": "text"
      },
      "source": [
        "<a href=\"https://colab.research.google.com/github/Chaitanya2908/Interactive_adventure_game_Python/blob/main/interactive_text_based_adventure_game.ipynb\" target=\"_parent\"><img src=\"https://colab.research.google.com/assets/colab-badge.svg\" alt=\"Open In Colab\"/></a>"
      ]
    },
    {
      "cell_type": "code",
      "source": [
        "Game_world = {\n",
        "    \"Entrance\" : {\n",
        "        \"description\" : \"You are at the entance of the Grand Palace\",\n",
        "        \"item\" : [],\n",
        "        \"exits\" : {\"north\" : \"Hallway\"}\n",
        "\n",
        "    },\n",
        "    \"Hallway\" : {\n",
        "        \"description\" : \"You are in the dimly lit hallway with doors leading in multiple directions.\",\n",
        "        \"item\" : [\"knife\"],\n",
        "        \"exits\" : {\"south\" : \"Entrance\", \"east\" : \"Library\", \"west\" : \"Kitchen\", \"north\" : \"Locked Room\"}\n",
        "    },\n",
        "    \"Library\" : {\n",
        "        \"description\" : \"You've entered the Library which has dusty shelves filled with books.\",\n",
        "        \"item\" : [\"key_part1\"],\n",
        "        \"exits\" : {\"west\" : \"Hallway\"}\n",
        "    },\n",
        "    \"Kitchen\" : {\n",
        "        \"description\" : \"You've entered the Kitchen with gas stoves and a sink.\",\n",
        "        \"item\" : [\"key_part2\"],\n",
        "        \"exits\" : {\"east\" : \"Hallway\"}\n",
        "    },\n",
        "    \"Locked Room\" : {\n",
        "        \"description\" : \"You've entered a hidden chamber filled with ancient treasures!.\",\n",
        "        \"item\" : [\"treasure chest\"],\n",
        "        \"exits\" : {\"south\" : \"Hallway\"},\n",
        "        \"locked\" : True\n",
        "    }\n",
        "    }\n",
        "\n",
        "current_room = \"Entrance\"\n",
        "inventory = []"
      ],
      "metadata": {
        "id": "cOhf98jRveo_"
      },
      "execution_count": null,
      "outputs": []
    },
    {
      "cell_type": "code",
      "source": [
        "def describe_room():\n",
        "  room = Game_world[current_room]\n",
        "  print(room['description'])\n",
        "  print(f\"Items in room: {', '.join(room['item'])}\" if room[\"item\"] else \"No item in this room\")\n",
        "  print(\"Exits:\", \", \".join(room['exits'].keys()))\n",
        "  print(\"Inventory:\", \", \".join(inventory))\n",
        "  print(\"\\nAvailable Actions\")\n",
        "  print(\" - Go\",\", \".join(room['exits'].keys()))\n",
        "  if room['item']:\n",
        "    print(\" - Pick\", \", \".join(room['item']))\n",
        "  if \"key_part1\" in inventory and \"key_part2\" in inventory and \"key\" not in inventory:\n",
        "    print(\" - Combine key_part1 key_part2\")\n",
        "  if \"key\" in inventory and room.get('locked', False):\n",
        "    print(\" - use key (to unlock)\")\n",
        "  print(\"\\nOther Options\")\n",
        "  print(\" - inventory \\n - look \\n - help \\n - quit\")"
      ],
      "metadata": {
        "id": "9jJZ-6Rxy9W9"
      },
      "execution_count": null,
      "outputs": []
    },
    {
      "cell_type": "code",
      "source": [
        "def move(direction):\n",
        "  global current_room\n",
        "  exits = Game_world[current_room].get(\"exits\", {})\n",
        "  if direction in exits:\n",
        "      next_room = exits[direction]\n",
        "      if Game_world[next_room].get(\"locked\", False):\n",
        "          print(\"The door is locked.\")\n",
        "      else:\n",
        "          current_room = next_room\n",
        "          describe_room()\n",
        "  else:\n",
        "    print(\"You can't go that way.\")"
      ],
      "metadata": {
        "id": "STrnCvafBJJZ"
      },
      "execution_count": null,
      "outputs": []
    },
    {
      "cell_type": "code",
      "source": [
        "def take(item):\n",
        "  room = Game_world[current_room]\n",
        "  if item in room['item']:\n",
        "    inventory.append(item)\n",
        "    room['item'].remove(item)\n",
        "    print(f\"You picked up the {item}.\")\n",
        "  else:\n",
        "    print(f\"No {item} here.\")"
      ],
      "metadata": {
        "id": "e_GirWwsGsQN"
      },
      "execution_count": null,
      "outputs": []
    },
    {
      "cell_type": "code",
      "source": [
        "def use(item):\n",
        "  if item not in inventory:\n",
        "    print(f\"You dont have {item}\")\n",
        "    return\n",
        "  if item == 'key' and current_room == 'Hallway':\n",
        "    Game_world['Locked Room']['locked'] = False\n",
        "    print(\"The door is unlocked\")\n",
        "  else:\n",
        "    print(f\"You can't use {item} here\")"
      ],
      "metadata": {
        "id": "CzlC8MsYHB9k"
      },
      "execution_count": null,
      "outputs": []
    },
    {
      "cell_type": "code",
      "source": [
        "def combine_key(item1, item2):\n",
        "  if item1 in inventory and item2 in inventory:\n",
        "    if (item1, item2) == (\"key_part1\", \"key_part2\"):\n",
        "      inventory.append(\"key\")\n",
        "      inventory.remove(item1)\n",
        "      inventory.remove(item2)\n",
        "      print(\"You combined key_part1 and key_part2 to create a full key!\")\n",
        "      print(\"use key (to unlock)\")\n",
        "    else:\n",
        "      print(\"These items can't be combined.\")\n",
        "  else:\n",
        "        print(\"You're missing one or both items.\")"
      ],
      "metadata": {
        "id": "feXWQNvIIXbB"
      },
      "execution_count": null,
      "outputs": []
    },
    {
      "cell_type": "code",
      "source": [
        "def show_inventory():\n",
        "    print(\"Inventory:\", \", \".join(inventory) if inventory else \"empty\")"
      ],
      "metadata": {
        "id": "eiIt74a7JXky"
      },
      "execution_count": null,
      "outputs": []
    },
    {
      "cell_type": "code",
      "source": [
        "def help_menu():\n",
        "    print(\"\\nCommands:\")\n",
        "    print(\"  go [north/south/east/west]\")\n",
        "    print(\"  take [item]\")\n",
        "    print(\"  use [item]\")\n",
        "    print(\"  combine [item1] [item2]\")\n",
        "    print(\"  inventory\")\n",
        "    print(\"  look\")\n",
        "    print(\"  help\")\n",
        "    print(\"  quit\")"
      ],
      "metadata": {
        "id": "9vjZwDTeJaZh"
      },
      "execution_count": null,
      "outputs": []
    },
    {
      "cell_type": "code",
      "source": [
        "print(\"Welcome to the Adventure Game!\")\n",
        "describe_room()\n",
        "\n",
        "#while True:\n",
        "while \"treasure chest\" not in inventory:\n",
        "  command = input(\"\\nWhat do you do \").strip().lower()\n",
        "\n",
        "  if command.startswith(\"go \"):\n",
        "    _,direction = command.split(\" \",1)\n",
        "    move(direction)\n",
        "\n",
        "  elif command.startswith(\"pick \"):\n",
        "    _,item = command.split(\" \", 1)\n",
        "    take(item)\n",
        "\n",
        "  elif command.startswith(\"use \"):\n",
        "     _, item = command.split(\" \", 1)\n",
        "     use(item)\n",
        "\n",
        "  elif command.startswith(\"combine \"):\n",
        "     parts = command.split(\" \")\n",
        "     if len(parts) == 3:\n",
        "       combine_key(parts[1], parts[2])\n",
        "     else:\n",
        "       print(\"Use format: combine item1 item2\")\n",
        "\n",
        "  elif command == \"inventory\":\n",
        "    show_inventory()\n",
        "\n",
        "  elif command == \"look\":\n",
        "    describe_room()\n",
        "\n",
        "  elif command == \"help\":\n",
        "    help_menu()\n",
        "\n",
        "  elif command == \"quit\":\n",
        "    print(\"Thanks for playing!\")\n",
        "    break\n",
        "  else:\n",
        "    print(\"I don't understand that command.\")\n",
        "else:\n",
        "  print(\"You Got the Treasure Chest. Congratulations!!!!\")"
      ],
      "metadata": {
        "id": "en9oL2T8JcUk"
      },
      "execution_count": null,
      "outputs": []
    }
  ]
}